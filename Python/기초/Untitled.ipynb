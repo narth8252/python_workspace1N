{
 "cells": [
  {
   "cell_type": "code",
   "execution_count": 1,
   "id": "a15c9166-73cb-48e3-9942-2580f81c8517",
   "metadata": {},
   "outputs": [
    {
     "name": "stdout",
     "output_type": "stream",
     "text": [
      "출력을 하고자 할때 사용한다\n"
     ]
    }
   ],
   "source": [
    "print(\"출력을 하고자 할때 사용한다\")"
   ]
  },
  {
   "cell_type": "code",
   "execution_count": 2,
   "id": "92b23619-c6eb-473a-bbba-c42b1a740237",
   "metadata": {},
   "outputs": [
    {
     "name": "stdout",
     "output_type": "stream",
     "text": [
      "11\n"
     ]
    }
   ],
   "source": [
    "print( 5+6)"
   ]
  },
  {
   "cell_type": "markdown",
   "id": "c06985ad-affc-4a3d-b98b-053882ef6b24",
   "metadata": {},
   "source": [
    "#변수란 컴퓨터의 기억장소에 이름을 부여한것을 말한다. \n",
    "#컴퓨터의 기억공간에 이름을 부여하고 그공간에 값을 저장하거나 읽어올수\n",
    "#있다  0과 1로 구성되어 있다.  1번지에 값 3을 넣고 2번지에 값 4를 넣고\n",
    "#기억공간에 이름을 붙인다.  \n",
    "#JAVA 라면  변수를 미리 선언해야 한다.  int a; \n",
    "#int 형의 데이터가 저장될 공간을 확보하고 이름을 a라고해라 \n",
    "#보통의 인터프리터 언어는 변수를 미리 선언하지 않는다. \\\n",
    "#필요할때 만들어서 쓰면된다. \n"
   ]
  },
  {
   "cell_type": "code",
   "execution_count": 3,
   "id": "3e6d9bc6-b96c-4657-bc92-8866b803a3ff",
   "metadata": {},
   "outputs": [
    {
     "name": "stdout",
     "output_type": "stream",
     "text": [
      "10 20 30\n"
     ]
    }
   ],
   "source": [
    "a = 10    #a라는 변수에 값 10을 저장(할당) 하라 \n",
    "b = 20    #b라는 변수에 값 20을 저장하라 \n",
    "c = a+b   #a의 값 10과 b의 값 20을 읽어와서 더한 뒤에 c에 넣어라 \n",
    "          #좌변에는 변수만, 우변에는 아무거나 올 수 있다\n",
    "print(a,b,c)   #a,b,c변수의 값을 읽어서 화면에 출력하라 "
   ]
  },
  {
   "cell_type": "code",
   "execution_count": 5,
   "id": "13446a73-47c1-4d27-9fcb-4ddcd96f387e",
   "metadata": {},
   "outputs": [
    {
     "name": "stdin",
     "output_type": "stream",
     "text": [
      "a =  4\n",
      "b =  5\n"
     ]
    },
    {
     "name": "stdout",
     "output_type": "stream",
     "text": [
      "4 5 45\n",
      "4 5 9\n"
     ]
    }
   ],
   "source": [
    "#값입력하기 - 입력함수가 동시에 출력도 가능 \n",
    "a = input(\"a = \") \n",
    "b = input(\"b = \")\n",
    "c = a+b #모든 입력은 unicode다 그래서 a 도 b도 문자로 인식한다.\n",
    "print(a,b,c) #문자 + 문자 = 문자 덧붙이기 \n",
    "d = int(a) + int(b) #int는 문자를 -> 숫자로 바꾼다 \n",
    "print(a,b,d)  \n",
    "\n"
   ]
  },
  {
   "cell_type": "code",
   "execution_count": 6,
   "id": "b5b4b0d1-4e61-4b9b-9d8d-25f6b3861a67",
   "metadata": {},
   "outputs": [
    {
     "name": "stdin",
     "output_type": "stream",
     "text": [
      "가로 :  4\n",
      "세로 :  6\n"
     ]
    },
    {
     "name": "stdout",
     "output_type": "stream",
     "text": [
      "24\n"
     ]
    }
   ],
   "source": [
    "#사각형의 면적 구하기 (가로, 세로 입력받아서 면적을 구하고자 한다)\n",
    "#입력데이터 : 가로 , 세로 \n",
    "#출력데이터 : 면적 \n",
    "#입력 -> 계산이나 출력을 생각하지 말자 \n",
    "width = input(\"가로 : \")\n",
    "height = input(\"세로 : \") \n",
    "#계산\n",
    "surface = int(width) * int(height) \n",
    "#출력 \n",
    "print( surface ) "
   ]
  },
  {
   "cell_type": "code",
   "execution_count": 7,
   "id": "6d52bb62-519f-45bb-b121-1567eef09e44",
   "metadata": {},
   "outputs": [
    {
     "name": "stdin",
     "output_type": "stream",
     "text": [
      "근무시간 :  20\n",
      "시간당급여액 :  30000\n"
     ]
    },
    {
     "name": "stdout",
     "output_type": "stream",
     "text": [
      "근무시간은 20 시간당급여액 30000 주급은 600000\n"
     ]
    }
   ],
   "source": [
    "#주급 계산하기  시간당 급여액하고 근무시간을 입력받아서 주급을 계산하기 \n",
    "work_time = input(\"근무시간 : \") \n",
    "per_pay = input(\"시간당급여액 : \") \n",
    "pay = int(work_time) * int(per_pay)\n",
    "print(\"근무시간은\",work_time, \"시간당급여액\", per_pay, \"주급은\", pay)"
   ]
  },
  {
   "cell_type": "code",
   "execution_count": null,
   "id": "a5e2f244-db07-4452-96fd-2389ab9c6e52",
   "metadata": {},
   "outputs": [],
   "source": []
  }
 ],
 "metadata": {
  "kernelspec": {
   "display_name": "Python 3 (ipykernel)",
   "language": "python",
   "name": "python3"
  },
  "language_info": {
   "codemirror_mode": {
    "name": "ipython",
    "version": 3
   },
   "file_extension": ".py",
   "mimetype": "text/x-python",
   "name": "python",
   "nbconvert_exporter": "python",
   "pygments_lexer": "ipython3",
   "version": "3.12.7"
  }
 },
 "nbformat": 4,
 "nbformat_minor": 5
}
