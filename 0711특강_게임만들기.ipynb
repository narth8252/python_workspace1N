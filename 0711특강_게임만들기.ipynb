{
 "cells": [
  {
   "cell_type": "code",
   "execution_count": 5,
   "id": "323630dd",
   "metadata": {},
   "outputs": [
    {
     "name": "stdout",
     "output_type": "stream",
     "text": [
      "🎮 업다운 게임에 오신 것을 환영합니다!\n",
      "\n",
      "🎯 1부터 100 사이 숫자를 맞춰보세요!\n",
      "🔽 Down!\n",
      "🔽 Down!\n",
      "🔽 Down!\n",
      "🔼 Up!\n",
      "🔼 Up!\n",
      "🔼 Up!\n",
      "🔽 Down!\n",
      "🔼 Up!\n",
      "🔽 Down!\n",
      "🔼 Up!\n",
      "🎉 정답입니다! 11번 만에 맞췄어요.\n",
      "🏆 새로운 최고 기록입니다! (11회)\n",
      "👋 게임을 종료합니다. 감사합니다!\n"
     ]
    }
   ],
   "source": [
    "import random\n",
    "\n",
    "best_score = None\n",
    "\n",
    "print(\"🎮 업다운 게임에 오신 것을 환영합니다!\")\n",
    "\n",
    "while True:\n",
    "    answer = random.randint(1, 100)\n",
    "    tries = 0\n",
    "    print(\"\\n🎯 1부터 100 사이 숫자를 맞춰보세요!\")\n",
    "\n",
    "    while True:\n",
    "        guess = input(\"숫자를 입력하세요: \")\n",
    "        if not guess.isdigit():\n",
    "            print(\"⚠️ 숫자만 입력해 주세요!\")\n",
    "            continue\n",
    "        \n",
    "        guess = int(guess)\n",
    "        tries += 1\n",
    "\n",
    "        if guess < answer:\n",
    "            print(\"🔼 Up!\")\n",
    "        elif guess > answer:\n",
    "            print(\"🔽 Down!\")\n",
    "        else:\n",
    "            print(f\"🎉 정답입니다! {tries}번 만에 맞췄어요.\")\n",
    "            if best_score is None or tries < best_score:\n",
    "                best_score = tries\n",
    "                print(f\"🏆 새로운 최고 기록입니다! ({best_score}회)\")\n",
    "            else:\n",
    "                print(f\"📈 현재 최고 기록은 {best_score}회입니다.\")\n",
    "            break\n",
    "\n",
    "    # 게임 재시작 여부\n",
    "    again = input(\"🔁 게임을 다시 하시겠습니까? (y/n): \").lower()\n",
    "    if again != 'y':\n",
    "        print(\"👋 게임을 종료합니다. 감사합니다!\")\n",
    "        break"
   ]
  },
  {
   "cell_type": "code",
   "execution_count": null,
   "id": "d6d9af7a",
   "metadata": {},
   "outputs": [],
   "source": []
  }
 ],
 "metadata": {
  "kernelspec": {
   "display_name": "base",
   "language": "python",
   "name": "python3"
  },
  "language_info": {
   "codemirror_mode": {
    "name": "ipython",
    "version": 3
   },
   "file_extension": ".py",
   "mimetype": "text/x-python",
   "name": "python",
   "nbconvert_exporter": "python",
   "pygments_lexer": "ipython3",
   "version": "3.12.7"
  }
 },
 "nbformat": 4,
 "nbformat_minor": 5
}
